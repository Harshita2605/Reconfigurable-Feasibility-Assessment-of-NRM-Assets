{
 "cells": [
  {
   "cell_type": "code",
   "execution_count": null,
   "metadata": {
    "id": "A8YeXzXvkjoa"
   },
   "outputs": [],
   "source": [
    "# B.Tech Project, Indian Insititute of Technology, Delhi\n",
    "# Authors - Harshita (2019CS190272), Om Krishna (2019CS10272)\n",
    "# Input : Statewise lithology shapefiles from Bhukosh\n",
    "\n",
    "import requests\n",
    "import rasterio as rio\n",
    "from rasterio.enums import Resampling\n",
    "from rasterio.plot import show\n",
    "import numpy as np\n",
    "from matplotlib import pyplot\n",
    "from PIL import Image\n",
    "import osgeo\n",
    "from osgeo import gdal, ogr\n",
    "import geopandas as gpd\n",
    "import os\n",
    "from tqdm import tqdm"
   ]
  },
  {
   "cell_type": "code",
   "execution_count": null,
   "metadata": {
    "id": "zMzEpNTtkqv4"
   },
   "outputs": [],
   "source": [
    "import csv\n",
    "\n",
    "# CSV file with state Lat1 Long1 Lat2 Long2, and state codes\n",
    "# https://docs.google.com/spreadsheets/d/1Te7I-JH1sTqC_e6MOMegvVFpeUneAt7c7NYqn3A787Q/edit?usp=sharing\n",
    "# ['AndamanNicobar', '92.208', '6.758', '93.948', '13.676', 'AN']\n",
    "# Tripura, Mizoram Data Not Available, J&K Incomplete \n",
    "\n",
    "with open('lintemp/bhuvan_extent.csv', newline='') as f:\n",
    "    reader = csv.reader(f)\n",
    "    data = list(reader)\n",
    "\n",
    "data = data[1:]\n",
    "data "
   ]
  },
  {
   "cell_type": "code",
   "execution_count": null,
   "metadata": {
    "id": "9AUv-E9nk01m"
   },
   "outputs": [],
   "source": [
    "# folder names for output files\n",
    "\n",
    "folder_bhukosh_litho = 'bhukosh_litho/'\n",
    "out_folder = folder_bhukosh_litho + 'all_scores/'\n",
    "temp_folder = folder_bhukosh_litho + 'all_temp/'"
   ]
  },
  {
   "cell_type": "code",
   "execution_count": null,
   "metadata": {
    "id": "UAIp9lFFk9bz"
   },
   "outputs": [],
   "source": [
    "# function to rasterize from vector data to GeoTiff\n",
    "\n",
    "def rasterize(s, df_header, soil, burnval): # -ts, -te can be arguments (ts computed from te or let default - ?)\n",
    "    v_soil = temp_folder + s[5] + '_' + soil + '.shp'\n",
    "    # create soil type shapefile\n",
    "    df[df[df_header].str.contains(soil, case=False)==True].to_file(v_soil) \n",
    "    \n",
    "    while not os.path.exists(v_soil):\n",
    "        time.sleep(1)\n",
    "    \n",
    "    # rasterize created shapefile\n",
    "    r_soil = temp_folder + s[5] + '_' + soil + '_r.tif'\n",
    "    \n",
    "    options_list = [ '-of GTiff', '-burn ' + burnval, '-ts 2000 2000', \n",
    "                     '-te ' + str(s[1]) + ' ' + str(s[2]) + ' ' + str(s[3]) + ' ' + str(s[4]), # L1 L4 L3 L2 \n",
    "                     '-a_nodata -1', '-ot Int32', '-init 0']\n",
    "\n",
    "    options_string = \" \".join(options_list)\n",
    "    ds = gdal.Rasterize(r_soil, v_soil, options=options_string)\n",
    "    ds = None"
   ]
  },
  {
   "cell_type": "code",
   "execution_count": null,
   "metadata": {
    "id": "3NmjWWL4lCD2"
   },
   "outputs": [],
   "source": [
    "# removed gujarat (8), rajasthan(22)\n",
    "data.pop(8)\n",
    "data.pop(21)\n",
    "\n",
    "for s in data:\n",
    "    litho = folder_bhukosh_litho + s[5] + '/Lithology.shp' \n",
    "    df = gpd.read_file(litho)\n",
    "    \n",
    "    # 5 major geology types that exist, can be extended for other types\n",
    "    # Value is a measure of infiltration factor(acc to GEC norms), smaller value = more water seeps in = better recharge potential\n",
    "    # can add new soil types with scores in the below format\n",
    "    rasterize(s, 'GROUP_NAME', 'ALLUVIUM', '1')\n",
    "    rasterize(s, 'LITHOLOGIC', 'GRANITE', '2')\n",
    "    rasterize(s, 'LITHOLOGIC', 'SCHIST', '3')\n",
    "    rasterize(s, 'LITHOLOGIC', 'GNEISS', '4')\n",
    "    rasterize(s, 'LITHOLOGIC', 'PHYLLITE', '5')\n",
    "    rasterize(s, 'LITHOLOGIC', 'QUARTZ', '6')\n",
    "    rasterize(s, 'LITHOLOGIC', 'BASALT', '7')\n",
    "    rasterize(s, 'LITHOLOGIC', 'SANDSTONE', '8')\n",
    "    rasterize(s, 'LITHOLOGIC', 'SHALE', '9')\n",
    "    rasterize(s, 'LITHOLOGIC', 'LATERIT', '10') #laterite, lateritic soil\n",
    "    \n",
    "    rastersloc = temp_folder + s[5] + '_'\n",
    "    while not os.path.exists(rastersloc + 'ALLUVIUM_r.tif'):\n",
    "        time.sleep(1)\n",
    "    while not os.path.exists(rastersloc + 'GRANITE_r.tif'):\n",
    "        time.sleep(1)\n",
    "    while not os.path.exists(rastersloc + 'SCHIST_r.tif'):\n",
    "        time.sleep(1)\n",
    "    while not os.path.exists(rastersloc + 'GNEISS_r.tif'):\n",
    "        time.sleep(1)\n",
    "    while not os.path.exists(rastersloc + 'QUARTZ_r.tif'):\n",
    "        time.sleep(1)\n",
    "    while not os.path.exists(rastersloc + 'PHYLLITE_r.tif'):\n",
    "        time.sleep(1)\n",
    "    while not os.path.exists(rastersloc + 'BASALT_r.tif'):\n",
    "        time.sleep(1)\n",
    "    while not os.path.exists(rastersloc + 'SANDSTONE_r.tif'):\n",
    "        time.sleep(1)\n",
    "    while not os.path.exists(rastersloc + 'SHALE_r.tif'):\n",
    "        time.sleep(1)\n",
    "    while not os.path.exists(rastersloc + 'LATERIT_r.tif'):\n",
    "        time.sleep(1)\n",
    "        \n",
    "    alu = rio.open(rastersloc + 'ALLUVIUM_r.tif').read(1).astype(float)\n",
    "    gra = rio.open(rastersloc + 'GRANITE_r.tif').read(1).astype(float)\n",
    "    sst = rio.open(rastersloc + 'SCHIST_r.tif').read(1).astype(float)\n",
    "    gns = rio.open(rastersloc + 'GNEISS_r.tif').read(1).astype(float)\n",
    "    qtz = rio.open(rastersloc + 'QUARTZ_r.tif').read(1).astype(float)\n",
    "    phy = rio.open(rastersloc + 'PHYLLITE_r.tif').read(1).astype(float)\n",
    "    bas = rio.open(rastersloc + 'BASALT_r.tif').read(1).astype(float)\n",
    "    snd = rio.open(rastersloc + 'SANDSTONE_r.tif').read(1).astype(float)\n",
    "    sle = rio.open(rastersloc + 'SHALE_r.tif').read(1).astype(float)\n",
    "    lat = rio.open(rastersloc + 'LATERIT_r.tif').read(1).astype(float)\n",
    "\n",
    "    m, n = phy.shape # all 2000 x 2000 : ts\n",
    "    print(m,n)\n",
    "\n",
    "    # new raster\n",
    "    litho = np.zeros((m,n))\n",
    "    lithotif = temp_folder + s[5] + '_litho.tif'\n",
    "\n",
    "    # merging individual rasters to one output raster\n",
    "    for i in tqdm(range(0,m)):\n",
    "        for j in range (0,n):\n",
    "\n",
    "            # infiltration factor is limited by the worst infiltration (largest value hence max)\n",
    "            litho[i][j] = max(alu[i][j], gra[i][j], sst[i][j], gns[i][j], qtz[i][j], phy[i][j], bas[i][j], snd[i][j], sle[i][j], lat[i][j]) \n",
    "            \n",
    "\n",
    "    out_tiff = Image.fromarray(litho)\n",
    "    out_tiff.save(lithotif)\n",
    "\n",
    "\n",
    "    # georeff jamui\n",
    "    georeffed = out_folder + s[5] + '_geo_litho.tif'\n",
    "    while not os.path.exists(lithotif):\n",
    "        time.sleep(1)\n",
    "    ds = gdal.Open(lithotif)\n",
    "\n",
    "    options_list = [\n",
    "        '-of GTiff',\n",
    "        '-a_srs EPSG:4326',\n",
    "        '-a_ullr ' + str(s[1]) + ' ' + str(s[4]) + ' ' + str(s[3]) + ' ' + str(s[2]) # L1 L4 L3 L2\n",
    "    ] \n",
    "\n",
    "    options_string = \" \".join(options_list)\n",
    "\n",
    "    ds = gdal.Translate(georeffed,\n",
    "                        lithotif,\n",
    "                        options=options_string)\n",
    "\n",
    "    ds = None\n",
    "    \n",
    "    print(\"Lithology mask for \" + s[0] + \" generated successfully.\")"
   ]
  }
 ],
 "metadata": {
  "colab": {
   "authorship_tag": "ABX9TyM01f+XUJsCe97k5r2pVA3p",
   "provenance": []
  },
  "kernelspec": {
   "display_name": "Python 3 (ipykernel)",
   "language": "python",
   "name": "python3"
  },
  "language_info": {
   "codemirror_mode": {
    "name": "ipython",
    "version": 3
   },
   "file_extension": ".py",
   "mimetype": "text/x-python",
   "name": "python",
   "nbconvert_exporter": "python",
   "pygments_lexer": "ipython3",
   "version": "3.10.7"
  }
 },
 "nbformat": 4,
 "nbformat_minor": 4
}
